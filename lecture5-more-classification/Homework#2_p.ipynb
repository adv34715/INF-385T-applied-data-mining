{
 "cells": [
  {
   "cell_type": "code",
   "execution_count": 1,
   "metadata": {
    "collapsed": true
   },
   "outputs": [],
   "source": [
    "import numpy as np\n",
    "import pandas as pd\n",
    "import matplotlib.pyplot as plt\n",
    "%matplotlib inline\n",
    "import math\n",
    "import random, itertools"
   ]
  },
  {
   "cell_type": "code",
   "execution_count": 2,
   "metadata": {
    "collapsed": true
   },
   "outputs": [],
   "source": [
    "class Perceptron:\n",
    "    'A simple Perceptron implementation.'\n",
    "    def __init__(self, weights, bias, alpha=0.1):\n",
    "        self.weights = weights\n",
    "        self.bias = bias\n",
    "        self.alpha = alpha\n",
    "    \n",
    "    def propagate(self, x):\n",
    "        return self.activation(self.net(x)) \n",
    "        \n",
    "    def activation(self, net):\n",
    "        if net > 0:\n",
    "            return 1\n",
    "        return 0\n",
    "    \n",
    "    def net(self, x):\n",
    "        return np.dot(self.weights, x) + self.bias\n",
    "    \n",
    "    def learn(self, x, y):\n",
    "        y_hat = self.propagate(x)\n",
    "        self.weights = [w_i + self.alpha*x_i*(y-y_hat) for (w_i, x_i) in zip(self.weights, x)]\n",
    "        self.bias = self.bias + self.alpha*(y-y_hat)\n",
    "        return np.abs(y_hat - y)"
   ]
  },
  {
   "cell_type": "code",
   "execution_count": 3,
   "metadata": {
    "collapsed": true
   },
   "outputs": [],
   "source": [
    "size = 50 # size of data set"
   ]
  },
  {
   "cell_type": "code",
   "execution_count": 4,
   "metadata": {
    "collapsed": true
   },
   "outputs": [],
   "source": [
    "data = pd.DataFrame(columns=('$x_1$', '$x_2$'),\n",
    "                    data=np.random.uniform(size=(size,2)))"
   ]
  },
  {
   "cell_type": "code",
   "execution_count": 5,
   "metadata": {
    "collapsed": false
   },
   "outputs": [
    {
     "data": {
      "text/html": [
       "<div>\n",
       "<table border=\"1\" class=\"dataframe\">\n",
       "  <thead>\n",
       "    <tr style=\"text-align: right;\">\n",
       "      <th></th>\n",
       "      <th>$x_1$</th>\n",
       "      <th>$x_2$</th>\n",
       "    </tr>\n",
       "  </thead>\n",
       "  <tbody>\n",
       "    <tr>\n",
       "      <th>0</th>\n",
       "      <td>0.688074</td>\n",
       "      <td>0.954832</td>\n",
       "    </tr>\n",
       "    <tr>\n",
       "      <th>1</th>\n",
       "      <td>0.888278</td>\n",
       "      <td>0.834271</td>\n",
       "    </tr>\n",
       "    <tr>\n",
       "      <th>2</th>\n",
       "      <td>0.795737</td>\n",
       "      <td>0.597430</td>\n",
       "    </tr>\n",
       "    <tr>\n",
       "      <th>3</th>\n",
       "      <td>0.429137</td>\n",
       "      <td>0.828191</td>\n",
       "    </tr>\n",
       "    <tr>\n",
       "      <th>4</th>\n",
       "      <td>0.751640</td>\n",
       "      <td>0.523515</td>\n",
       "    </tr>\n",
       "    <tr>\n",
       "      <th>5</th>\n",
       "      <td>0.168487</td>\n",
       "      <td>0.052590</td>\n",
       "    </tr>\n",
       "    <tr>\n",
       "      <th>6</th>\n",
       "      <td>0.709676</td>\n",
       "      <td>0.266735</td>\n",
       "    </tr>\n",
       "    <tr>\n",
       "      <th>7</th>\n",
       "      <td>0.840034</td>\n",
       "      <td>0.097519</td>\n",
       "    </tr>\n",
       "    <tr>\n",
       "      <th>8</th>\n",
       "      <td>0.197928</td>\n",
       "      <td>0.963927</td>\n",
       "    </tr>\n",
       "    <tr>\n",
       "      <th>9</th>\n",
       "      <td>0.997587</td>\n",
       "      <td>0.793648</td>\n",
       "    </tr>\n",
       "  </tbody>\n",
       "</table>\n",
       "</div>"
      ],
      "text/plain": [
       "      $x_1$     $x_2$\n",
       "0  0.688074  0.954832\n",
       "1  0.888278  0.834271\n",
       "2  0.795737  0.597430\n",
       "3  0.429137  0.828191\n",
       "4  0.751640  0.523515\n",
       "5  0.168487  0.052590\n",
       "6  0.709676  0.266735\n",
       "7  0.840034  0.097519\n",
       "8  0.197928  0.963927\n",
       "9  0.997587  0.793648"
      ]
     },
     "execution_count": 5,
     "metadata": {},
     "output_type": "execute_result"
    }
   ],
   "source": [
    "data.head(10)"
   ]
  },
  {
   "cell_type": "code",
   "execution_count": 6,
   "metadata": {
    "collapsed": true
   },
   "outputs": [],
   "source": [
    "def condition(x):\n",
    "    return int(np.sum(x) > 1)"
   ]
  },
  {
   "cell_type": "code",
   "execution_count": 7,
   "metadata": {
    "collapsed": true
   },
   "outputs": [],
   "source": [
    "data['y'] = data.apply(condition, axis=1)"
   ]
  },
  {
   "cell_type": "code",
   "execution_count": 8,
   "metadata": {
    "collapsed": false
   },
   "outputs": [
    {
     "data": {
      "text/html": [
       "<div>\n",
       "<table border=\"1\" class=\"dataframe\">\n",
       "  <thead>\n",
       "    <tr style=\"text-align: right;\">\n",
       "      <th></th>\n",
       "      <th>$x_1$</th>\n",
       "      <th>$x_2$</th>\n",
       "      <th>y</th>\n",
       "    </tr>\n",
       "  </thead>\n",
       "  <tbody>\n",
       "    <tr>\n",
       "      <th>0</th>\n",
       "      <td>0.688074</td>\n",
       "      <td>0.954832</td>\n",
       "      <td>1</td>\n",
       "    </tr>\n",
       "    <tr>\n",
       "      <th>1</th>\n",
       "      <td>0.888278</td>\n",
       "      <td>0.834271</td>\n",
       "      <td>1</td>\n",
       "    </tr>\n",
       "    <tr>\n",
       "      <th>2</th>\n",
       "      <td>0.795737</td>\n",
       "      <td>0.597430</td>\n",
       "      <td>1</td>\n",
       "    </tr>\n",
       "    <tr>\n",
       "      <th>3</th>\n",
       "      <td>0.429137</td>\n",
       "      <td>0.828191</td>\n",
       "      <td>1</td>\n",
       "    </tr>\n",
       "    <tr>\n",
       "      <th>4</th>\n",
       "      <td>0.751640</td>\n",
       "      <td>0.523515</td>\n",
       "      <td>1</td>\n",
       "    </tr>\n",
       "    <tr>\n",
       "      <th>5</th>\n",
       "      <td>0.168487</td>\n",
       "      <td>0.052590</td>\n",
       "      <td>0</td>\n",
       "    </tr>\n",
       "    <tr>\n",
       "      <th>6</th>\n",
       "      <td>0.709676</td>\n",
       "      <td>0.266735</td>\n",
       "      <td>0</td>\n",
       "    </tr>\n",
       "    <tr>\n",
       "      <th>7</th>\n",
       "      <td>0.840034</td>\n",
       "      <td>0.097519</td>\n",
       "      <td>0</td>\n",
       "    </tr>\n",
       "    <tr>\n",
       "      <th>8</th>\n",
       "      <td>0.197928</td>\n",
       "      <td>0.963927</td>\n",
       "      <td>1</td>\n",
       "    </tr>\n",
       "    <tr>\n",
       "      <th>9</th>\n",
       "      <td>0.997587</td>\n",
       "      <td>0.793648</td>\n",
       "      <td>1</td>\n",
       "    </tr>\n",
       "  </tbody>\n",
       "</table>\n",
       "</div>"
      ],
      "text/plain": [
       "      $x_1$     $x_2$  y\n",
       "0  0.688074  0.954832  1\n",
       "1  0.888278  0.834271  1\n",
       "2  0.795737  0.597430  1\n",
       "3  0.429137  0.828191  1\n",
       "4  0.751640  0.523515  1\n",
       "5  0.168487  0.052590  0\n",
       "6  0.709676  0.266735  0\n",
       "7  0.840034  0.097519  0\n",
       "8  0.197928  0.963927  1\n",
       "9  0.997587  0.793648  1"
      ]
     },
     "execution_count": 8,
     "metadata": {},
     "output_type": "execute_result"
    }
   ],
   "source": [
    "data.head(10)"
   ]
  },
  {
   "cell_type": "code",
   "execution_count": 9,
   "metadata": {
    "collapsed": true
   },
   "outputs": [],
   "source": [
    "def plot_data(data, ax):\n",
    "    data[data.y==1].plot(kind='scatter', \n",
    "                         x='$x_1$', y='$x_2$', \n",
    "                         color='Red', ax=ax)\n",
    "    data[data.y==0].plot(kind='scatter', \n",
    "                         x='$x_1$', y='$x_2$', \n",
    "                         color='Gray', ax=ax)\n",
    "    ax.set_xlim(-0.1,1.1); ax.set_ylim(-0.1,1.1)"
   ]
  },
  {
   "cell_type": "code",
   "execution_count": 10,
   "metadata": {
    "collapsed": false
   },
   "outputs": [
    {
     "data": {
      "image/png": "[encoded data removed]",
      "text/plain": [
       "<matplotlib.figure.Figure at 0x109b15590>"
      ]
     },
     "metadata": {},
     "output_type": "display_data"
    }
   ],
   "source": [
    "fig = plt.figure(figsize=(5,5))\n",
    "ax = fig.gca()\n",
    "plot_data(data, ax)"
   ]
  },
  {
   "cell_type": "code",
   "execution_count": 3,
   "metadata": {
    "collapsed": true
   },
   "outputs": [],
   "source": [
    "def learn_data(perceptron, data):\n",
    "    'Returns the number of errors made.'\n",
    "    count = 0 \n",
    "    for i, row in data.iterrows():\n",
    "        count += perceptron.learn(row[0:2], row[2])\n",
    "    return count"
   ]
  },
  {
   "cell_type": "code",
   "execution_count": 4,
   "metadata": {
    "collapsed": true
   },
   "outputs": [],
   "source": [
    "def threshold(perceptron, x_1):\n",
    "    return (-perceptron.weights[0] * x_1 - perceptron.bias) / perceptron.weights[1]"
   ]
  },
  {
   "cell_type": "code",
   "execution_count": 5,
   "metadata": {
    "collapsed": true
   },
   "outputs": [],
   "source": [
    "def plot_perceptron_threshold(perceptron, ax):\n",
    "    xlim = ax.get_xlim(); ylim = ax.get_ylim()\n",
    "    \n",
    "    x2s = [threshold(perceptron, x1) for x1 in xlim]\n",
    "    ax.plot(xlim, x2s)\n",
    "    \n",
    "    ax.set_xlim(-0.1,1.1); ax.set_ylim(-0.1,1.1)"
   ]
  },
  {
   "cell_type": "code",
   "execution_count": 6,
   "metadata": {
    "collapsed": true
   },
   "outputs": [],
   "source": [
    "def plot_all(perceptron, data, t, ax=None):\n",
    "    if ax==None:\n",
    "        fig = plt.figure(figsize=(5,4))\n",
    "        ax = fig.gca()\n",
    "    plot_data(data, ax)\n",
    "    plot_perceptron_threshold(perceptron, ax)\n",
    "    \n",
    "    ax.set_title('$t='+str(t+1)+'$')"
   ]
  },
  {
   "cell_type": "code",
   "execution_count": 7,
   "metadata": {
    "collapsed": true
   },
   "outputs": [],
   "source": [
    "def calc_error(perceptron, data):\n",
    "    X = data[['$x_1$', '$x_2$']].values\n",
    "    y = data.y\n",
    "    preds = [perceptron.propagate(X[i]) for i in range(X.shape[0])]\n",
    "    err = sum([int(preds[i] != y[i]) for i in range(X.shape[0])])\n",
    "    return err / X.shape[0]"
   ]
  },
  {
   "cell_type": "code",
   "execution_count": 16,
   "metadata": {
    "collapsed": true
   },
   "outputs": [],
   "source": [
    "perceptron = Perceptron([0.1,-0.1],0.1)"
   ]
  },
  {
   "cell_type": "code",
   "execution_count": 17,
   "metadata": {
    "collapsed": false,
    "scrolled": true
   },
   "outputs": [
    {
     "data": {
      "text/plain": [
       "0"
      ]
     },
     "execution_count": 17,
     "metadata": {},
     "output_type": "execute_result"
    },
    {
     "data": {
      "image/png": "[encoded data removed]",
      "text/plain": [
       "<matplotlib.figure.Figure at 0x106c30950>"
      ]
     },
     "metadata": {},
     "output_type": "display_data"
    }
   ],
   "source": [
    "f, axarr = plt.subplots(2, 3, sharex=True, sharey=True, figsize=(8,6))\n",
    "axs = list(itertools.chain.from_iterable(axarr))\n",
    "errors=[]\n",
    "for t in range(6):\n",
    "    plot_all(perceptron, data, t, ax=axs[t])\n",
    "    learn_data(perceptron, data)\n",
    "errors=(calc_error(perceptron, data))\n",
    "f.tight_layout()\n",
    "errors"
   ]
  },
  {
   "cell_type": "markdown",
   "metadata": {},
   "source": [
    "1. Perceptron \n",
    "(a)"
   ]
  },
  {
   "cell_type": "code",
   "execution_count": 18,
   "metadata": {
    "collapsed": false
   },
   "outputs": [],
   "source": [
    "def avg_weight(perceptron,t,sum_weight,sum_bias):\n",
    "    sum_weight=np.add(sum_weight,perceptron.weights)\n",
    "    avg_weight=np.divide(sum_weight,(t+1))\n",
    "    sum_bias=np.add(sum_bias,perceptron.bias)\n",
    "    avg_bias=np.divide(sum_bias,(t+1))\n",
    "    print avg_weight\n",
    "    return sum_weight, sum_bias, avg_weight, avg_bias"
   ]
  },
  {
   "cell_type": "code",
   "execution_count": 19,
   "metadata": {
    "collapsed": false
   },
   "outputs": [],
   "source": [
    "#sum_weight=[0.1,-0.1]\n",
    "#sum_bias=[0.1]\n",
    "perceptron = Perceptron([0.1,-0.1],0.1)"
   ]
  },
  {
   "cell_type": "code",
   "execution_count": 20,
   "metadata": {
    "collapsed": false,
    "scrolled": true
   },
   "outputs": [
    {
     "name": "stdout",
     "output_type": "stream",
     "text": [
      "[ 0.1 -0.1]\n",
      "[ 0.1 -0.1]\n",
      "[ 0.1 -0.1]\n",
      "[ 0.1082587   0.00544767]\n",
      "[ 0.21651739  0.01089535]\n",
      "[ 0.1082587   0.00544767]\n",
      "[ 0.10204762  0.04104161]\n",
      "[ 0.30614287  0.12312483]\n",
      "[ 0.10204762  0.04104161]\n",
      "[ 0.10881498  0.06632971]\n",
      "[ 0.43525993  0.26531882]\n",
      "[ 0.10881498  0.06632971]\n",
      "[ 0.11624857  0.08891625]\n",
      "[ 0.58124284  0.44458126]\n",
      "[ 0.11624857  0.08891625]\n",
      "[ 0.12244322  0.10773838]\n",
      "[ 0.73465933  0.64643025]\n",
      "[ 0.12244322  0.10773838]\n"
     ]
    },
    {
     "data": {
      "text/plain": [
       "0"
      ]
     },
     "execution_count": 20,
     "metadata": {},
     "output_type": "execute_result"
    },
    {
     "data": {
      "image/png": "[encoded data removed]",
      "text/plain": [
       "<matplotlib.figure.Figure at 0x10af04f50>"
      ]
     },
     "metadata": {},
     "output_type": "display_data"
    }
   ],
   "source": [
    "f, axarr = plt.subplots(2, 3, sharex=True, sharey=True, figsize=(8,6))\n",
    "axs = list(itertools.chain.from_iterable(axarr))\n",
    "avg_errors=[]\n",
    "sum_weight=[0,0]\n",
    "sum_bias=[0]\n",
    "for t in range(6):\n",
    "    sum_weight,sum_bias,weights,bias = avg_weight(perceptron,t,sum_weight,sum_bias)\n",
    "    perceptron=Perceptron(weights,bias)\n",
    "    plot_all(perceptron, data, t, ax=axs[t])\n",
    "    learn_data(perceptron, data)\n",
    "    print(sum_weight)\n",
    "    print(weights)\n",
    "avg_errors=(calc_error(perceptron, data))\n",
    "f.tight_layout()\n",
    "avg_errors"
   ]
  },
  {
   "cell_type": "markdown",
   "metadata": {},
   "source": [
    "It seems that averaging weight vactor in each step cannot improve the performance."
   ]
  },
  {
   "cell_type": "markdown",
   "metadata": {},
   "source": [
    "(b)"
   ]
  },
  {
   "cell_type": "code",
   "execution_count": 165,
   "metadata": {
    "collapsed": false
   },
   "outputs": [],
   "source": [
    "def weighted_avg(perceptron,t,weighted_sum_weight,weighted_sum_bias):\n",
    "    sum_t=sum(i for i in range(t+2))\n",
    "    t_weight=np.multiply((t+1),perceptron.weights)\n",
    "    t_bias=np.multiply((t+1),perceptron.bias)\n",
    "    weighted_sum_weight=np.add(weighted_sum_weight,t_weight)    \n",
    "    weighted_avg_weight=np.divide(weighted_sum_weight,sum_t)\n",
    "    weighted_sum_bias=np.add(weighted_sum_bias,t_bias)\n",
    "    weighted_avg_bias=np.divide(weighted_sum_bias,sum_t)\n",
    "    return weighted_sum_weight, weighted_sum_bias, weighted_avg_weight, weighted_avg_bias"
   ]
  },
  {
   "cell_type": "code",
   "execution_count": 166,
   "metadata": {
    "collapsed": true
   },
   "outputs": [],
   "source": [
    "#weighted_sum_weight=[0.1,-0.1]\n",
    "#weighted_sum_bias=[0.1]\n",
    "perceptron = Perceptron([0.1,-0.1],0.1)"
   ]
  },
  {
   "cell_type": "code",
   "execution_count": 167,
   "metadata": {
    "collapsed": false
   },
   "outputs": [
    {
     "data": {
      "text/plain": [
       "0.26"
      ]
     },
     "execution_count": 167,
     "metadata": {},
     "output_type": "execute_result"
    },
    {
     "data": {
      "image/png": "[encoded data removed]",
      "text/plain": [
       "<matplotlib.figure.Figure at 0x10fbf1898>"
      ]
     },
     "metadata": {},
     "output_type": "display_data"
    }
   ],
   "source": [
    "f, axarr = plt.subplots(2, 3, sharex=True, sharey=True, figsize=(8,6))\n",
    "axs = list(itertools.chain.from_iterable(axarr))\n",
    "weighted_avg_errors=[]\n",
    "weighted_sum_weight=[0,0]\n",
    "weighted_sum_bias=[0]\n",
    "for t in range(6):\n",
    "    weighted_sum_weight,weighted_sum_bias,weights,bias = weighted_avg(perceptron,t,weighted_sum_weight,weighted_sum_bias)\n",
    "    perceptron=Perceptron(weights,bias)\n",
    "    plot_all(perceptron, data, t, ax=axs[t])\n",
    "    learn_data(perceptron, data)\n",
    "\n",
    "weighted_avg_errors=(calc_error(perceptron, data))\n",
    "f.tight_layout()\n",
    "weighted_avg_errors"
   ]
  },
  {
   "cell_type": "markdown",
   "metadata": {},
   "source": [
    "Using a weighted average, where the weight is proportional to the time step, chould improve performance."
   ]
  },
  {
   "cell_type": "markdown",
   "metadata": {},
   "source": [
    "(c)"
   ]
  },
  {
   "cell_type": "code",
   "execution_count": 8,
   "metadata": {
    "collapsed": true
   },
   "outputs": [],
   "source": [
    "import sklearn\n",
    "from sklearn import datasets\n",
    "from sklearn.datasets import make_classification\n",
    "from sklearn import metrics\n",
    "from sklearn.cross_validation import train_test_split\n",
    "from sklearn.linear_model import Perceptron as pcp"
   ]
  },
  {
   "cell_type": "code",
   "execution_count": 9,
   "metadata": {
    "collapsed": false
   },
   "outputs": [
    {
     "data": {
      "text/html": [
       "<div>\n",
       "<table border=\"1\" class=\"dataframe\">\n",
       "  <thead>\n",
       "    <tr style=\"text-align: right;\">\n",
       "      <th></th>\n",
       "      <th>$x_1$</th>\n",
       "      <th>$x_2$</th>\n",
       "    </tr>\n",
       "  </thead>\n",
       "  <tbody>\n",
       "    <tr>\n",
       "      <th>0</th>\n",
       "      <td>0.926595</td>\n",
       "      <td>2.978774</td>\n",
       "    </tr>\n",
       "    <tr>\n",
       "      <th>1</th>\n",
       "      <td>1.351538</td>\n",
       "      <td>0.410215</td>\n",
       "    </tr>\n",
       "    <tr>\n",
       "      <th>2</th>\n",
       "      <td>0.859901</td>\n",
       "      <td>-1.091876</td>\n",
       "    </tr>\n",
       "    <tr>\n",
       "      <th>3</th>\n",
       "      <td>1.773357</td>\n",
       "      <td>-0.406913</td>\n",
       "    </tr>\n",
       "    <tr>\n",
       "      <th>4</th>\n",
       "      <td>0.754439</td>\n",
       "      <td>0.746602</td>\n",
       "    </tr>\n",
       "    <tr>\n",
       "      <th>5</th>\n",
       "      <td>0.490716</td>\n",
       "      <td>-0.296181</td>\n",
       "    </tr>\n",
       "    <tr>\n",
       "      <th>6</th>\n",
       "      <td>0.568348</td>\n",
       "      <td>1.381642</td>\n",
       "    </tr>\n",
       "    <tr>\n",
       "      <th>7</th>\n",
       "      <td>1.977871</td>\n",
       "      <td>-0.938779</td>\n",
       "    </tr>\n",
       "    <tr>\n",
       "      <th>8</th>\n",
       "      <td>0.340065</td>\n",
       "      <td>-1.144633</td>\n",
       "    </tr>\n",
       "    <tr>\n",
       "      <th>9</th>\n",
       "      <td>0.941712</td>\n",
       "      <td>0.092599</td>\n",
       "    </tr>\n",
       "  </tbody>\n",
       "</table>\n",
       "</div>"
      ],
      "text/plain": [
       "      $x_1$     $x_2$\n",
       "0  0.926595  2.978774\n",
       "1  1.351538  0.410215\n",
       "2  0.859901 -1.091876\n",
       "3  1.773357 -0.406913\n",
       "4  0.754439  0.746602\n",
       "5  0.490716 -0.296181\n",
       "6  0.568348  1.381642\n",
       "7  1.977871 -0.938779\n",
       "8  0.340065 -1.144633\n",
       "9  0.941712  0.092599"
      ]
     },
     "execution_count": 9,
     "metadata": {},
     "output_type": "execute_result"
    }
   ],
   "source": [
    "X, Y = make_classification(n_samples=1000,n_features=2, n_redundant=0, n_informative=2,\n",
    "                             n_clusters_per_class=1)\n",
    "data_train = pd.DataFrame(columns=('$x_1$', '$x_2$'),\n",
    "                    data=X[500:])\n",
    "#data_train['y']=Y[500:]\n",
    "data_test = pd.DataFrame(columns=('$x_1$', '$x_2$'),\n",
    "                    data=X[:500])\n",
    "#data_test['y']=Y[:500]\n",
    "\n",
    "data_train.head(10)"
   ]
  },
  {
   "cell_type": "code",
   "execution_count": 10,
   "metadata": {
    "collapsed": true
   },
   "outputs": [],
   "source": [
    "def evaluate(perceptron,data_test):\n",
    "    X = data_test[['$x_1$', '$x_2$']].values\n",
    "    y = data_test.y\n",
    "    preds = [perceptron.propagate(X[i]) for i in range(X.shape[0])]\n",
    "    err = sum([int(preds[i] != y[i]) for i in range(X.shape[0])])\n",
    "    return err / X.shape[0]"
   ]
  },
  {
   "cell_type": "code",
   "execution_count": 11,
   "metadata": {
    "collapsed": false
   },
   "outputs": [
    {
     "ename": "IndexError",
     "evalue": "index out of bounds",
     "output_type": "error",
     "traceback": [
      "\u001b[0;31m---------------------------------------------------------------------------\u001b[0m",
      "\u001b[0;31mIndexError\u001b[0m                                Traceback (most recent call last)",
      "\u001b[0;32m<ipython-input-11-10eaa64624d3>\u001b[0m in \u001b[0;36m<module>\u001b[0;34m()\u001b[0m\n\u001b[1;32m      3\u001b[0m \u001b[0;32mfor\u001b[0m \u001b[0mt\u001b[0m \u001b[0;32min\u001b[0m \u001b[0mrange\u001b[0m\u001b[0;34m(\u001b[0m\u001b[0;36m10\u001b[0m\u001b[0;34m)\u001b[0m\u001b[0;34m:\u001b[0m\u001b[0;34m\u001b[0m\u001b[0m\n\u001b[1;32m      4\u001b[0m     \u001b[0mweights\u001b[0m\u001b[0;34m,\u001b[0m\u001b[0mbias\u001b[0m\u001b[0;34m=\u001b[0m\u001b[0mperceptron\u001b[0m\u001b[0;34m.\u001b[0m\u001b[0mweights\u001b[0m\u001b[0;34m,\u001b[0m\u001b[0mperceptron\u001b[0m\u001b[0;34m.\u001b[0m\u001b[0mbias\u001b[0m\u001b[0;34m\u001b[0m\u001b[0m\n\u001b[0;32m----> 5\u001b[0;31m     \u001b[0mlearn_data\u001b[0m\u001b[0;34m(\u001b[0m\u001b[0mperceptron\u001b[0m\u001b[0;34m,\u001b[0m \u001b[0mdata_train\u001b[0m\u001b[0;34m)\u001b[0m\u001b[0;34m\u001b[0m\u001b[0m\n\u001b[0m\u001b[1;32m      6\u001b[0m \u001b[0mmodel\u001b[0m\u001b[0;34m=\u001b[0m\u001b[0mPerceptron\u001b[0m\u001b[0;34m(\u001b[0m\u001b[0mweights\u001b[0m\u001b[0;34m,\u001b[0m\u001b[0mbias\u001b[0m\u001b[0;34m)\u001b[0m\u001b[0;34m\u001b[0m\u001b[0m\n\u001b[1;32m      7\u001b[0m \u001b[0;32mprint\u001b[0m\u001b[0;34m(\u001b[0m\u001b[0mevaluate\u001b[0m\u001b[0;34m(\u001b[0m\u001b[0mmodel\u001b[0m\u001b[0;34m,\u001b[0m\u001b[0mdata_test\u001b[0m\u001b[0;34m)\u001b[0m\u001b[0;34m)\u001b[0m\u001b[0;34m\u001b[0m\u001b[0m\n",
      "\u001b[0;32m<ipython-input-3-b008db110987>\u001b[0m in \u001b[0;36mlearn_data\u001b[0;34m(perceptron, data)\u001b[0m\n\u001b[1;32m      3\u001b[0m     \u001b[0mcount\u001b[0m \u001b[0;34m=\u001b[0m \u001b[0;36m0\u001b[0m\u001b[0;34m\u001b[0m\u001b[0m\n\u001b[1;32m      4\u001b[0m     \u001b[0;32mfor\u001b[0m \u001b[0mi\u001b[0m\u001b[0;34m,\u001b[0m \u001b[0mrow\u001b[0m \u001b[0;32min\u001b[0m \u001b[0mdata\u001b[0m\u001b[0;34m.\u001b[0m\u001b[0miterrows\u001b[0m\u001b[0;34m(\u001b[0m\u001b[0;34m)\u001b[0m\u001b[0;34m:\u001b[0m\u001b[0;34m\u001b[0m\u001b[0m\n\u001b[0;32m----> 5\u001b[0;31m         \u001b[0mcount\u001b[0m \u001b[0;34m+=\u001b[0m \u001b[0mperceptron\u001b[0m\u001b[0;34m.\u001b[0m\u001b[0mlearn\u001b[0m\u001b[0;34m(\u001b[0m\u001b[0mrow\u001b[0m\u001b[0;34m[\u001b[0m\u001b[0;36m0\u001b[0m\u001b[0;34m:\u001b[0m\u001b[0;36m2\u001b[0m\u001b[0;34m]\u001b[0m\u001b[0;34m,\u001b[0m \u001b[0mrow\u001b[0m\u001b[0;34m[\u001b[0m\u001b[0;36m2\u001b[0m\u001b[0;34m]\u001b[0m\u001b[0;34m)\u001b[0m\u001b[0;34m\u001b[0m\u001b[0m\n\u001b[0m\u001b[1;32m      6\u001b[0m     \u001b[0;32mreturn\u001b[0m \u001b[0mcount\u001b[0m\u001b[0;34m\u001b[0m\u001b[0m\n",
      "\u001b[0;32m/Users/apple/anaconda/lib/python2.7/site-packages/pandas/core/series.pyc\u001b[0m in \u001b[0;36m__getitem__\u001b[0;34m(self, key)\u001b[0m\n\u001b[1;32m    555\u001b[0m     \u001b[0;32mdef\u001b[0m \u001b[0m__getitem__\u001b[0m\u001b[0;34m(\u001b[0m\u001b[0mself\u001b[0m\u001b[0;34m,\u001b[0m \u001b[0mkey\u001b[0m\u001b[0;34m)\u001b[0m\u001b[0;34m:\u001b[0m\u001b[0;34m\u001b[0m\u001b[0m\n\u001b[1;32m    556\u001b[0m         \u001b[0;32mtry\u001b[0m\u001b[0;34m:\u001b[0m\u001b[0;34m\u001b[0m\u001b[0m\n\u001b[0;32m--> 557\u001b[0;31m             \u001b[0mresult\u001b[0m \u001b[0;34m=\u001b[0m \u001b[0mself\u001b[0m\u001b[0;34m.\u001b[0m\u001b[0mindex\u001b[0m\u001b[0;34m.\u001b[0m\u001b[0mget_value\u001b[0m\u001b[0;34m(\u001b[0m\u001b[0mself\u001b[0m\u001b[0;34m,\u001b[0m \u001b[0mkey\u001b[0m\u001b[0;34m)\u001b[0m\u001b[0;34m\u001b[0m\u001b[0m\n\u001b[0m\u001b[1;32m    558\u001b[0m \u001b[0;34m\u001b[0m\u001b[0m\n\u001b[1;32m    559\u001b[0m             \u001b[0;32mif\u001b[0m \u001b[0;32mnot\u001b[0m \u001b[0mnp\u001b[0m\u001b[0;34m.\u001b[0m\u001b[0misscalar\u001b[0m\u001b[0;34m(\u001b[0m\u001b[0mresult\u001b[0m\u001b[0;34m)\u001b[0m\u001b[0;34m:\u001b[0m\u001b[0;34m\u001b[0m\u001b[0m\n",
      "\u001b[0;32m/Users/apple/anaconda/lib/python2.7/site-packages/pandas/core/index.pyc\u001b[0m in \u001b[0;36mget_value\u001b[0;34m(self, series, key)\u001b[0m\n\u001b[1;32m   1794\u001b[0m \u001b[0;34m\u001b[0m\u001b[0m\n\u001b[1;32m   1795\u001b[0m             \u001b[0;32mtry\u001b[0m\u001b[0;34m:\u001b[0m\u001b[0;34m\u001b[0m\u001b[0m\n\u001b[0;32m-> 1796\u001b[0;31m                 \u001b[0;32mreturn\u001b[0m \u001b[0mtslib\u001b[0m\u001b[0;34m.\u001b[0m\u001b[0mget_value_box\u001b[0m\u001b[0;34m(\u001b[0m\u001b[0ms\u001b[0m\u001b[0;34m,\u001b[0m \u001b[0mkey\u001b[0m\u001b[0;34m)\u001b[0m\u001b[0;34m\u001b[0m\u001b[0m\n\u001b[0m\u001b[1;32m   1797\u001b[0m             \u001b[0;32mexcept\u001b[0m \u001b[0mIndexError\u001b[0m\u001b[0;34m:\u001b[0m\u001b[0;34m\u001b[0m\u001b[0m\n\u001b[1;32m   1798\u001b[0m                 \u001b[0;32mraise\u001b[0m\u001b[0;34m\u001b[0m\u001b[0m\n",
      "\u001b[0;32mpandas/tslib.pyx\u001b[0m in \u001b[0;36mpandas.tslib.get_value_box (pandas/tslib.c:16375)\u001b[0;34m()\u001b[0m\n",
      "\u001b[0;32mpandas/tslib.pyx\u001b[0m in \u001b[0;36mpandas.tslib.get_value_box (pandas/tslib.c:16126)\u001b[0;34m()\u001b[0m\n",
      "\u001b[0;31mIndexError\u001b[0m: index out of bounds"
     ]
    }
   ],
   "source": [
    "perceptron = Perceptron([0.1,-0.1],0.1)\n",
    "errors=[]\n",
    "for t in range(10):\n",
    "    weights,bias=perceptron.weights,perceptron.bias\n",
    "    learn_data(perceptron, data_train)\n",
    "model=Perceptron(weights,bias)\n",
    "print(evaluate(model,data_test))"
   ]
  },
  {
   "cell_type": "code",
   "execution_count": 257,
   "metadata": {
    "collapsed": false
   },
   "outputs": [
    {
     "name": "stdout",
     "output_type": "stream",
     "text": [
      "0.158\n"
     ]
    }
   ],
   "source": [
    "perceptron = Perceptron([0.1,-0.1],0.1)\n",
    "avg_errors=[]\n",
    "sum_weight=[0,0]\n",
    "sum_bias=[0]\n",
    "for t in range(10):\n",
    "    sum_weight,sum_bias,weights,bias = avg_weight(perceptron,t,sum_weight,sum_bias)\n",
    "    perceptron=Perceptron(weights,bias)\n",
    "    learn_data(perceptron, data)\n",
    "model_avg=Perceptron(weights,bias)\n",
    "print(evaluate(model_avg,data_test))"
   ]
  },
  {
   "cell_type": "code",
   "execution_count": 256,
   "metadata": {
    "collapsed": false
   },
   "outputs": [
    {
     "name": "stdout",
     "output_type": "stream",
     "text": [
      "0.154\n"
     ]
    }
   ],
   "source": [
    "perceptron = Perceptron([0.1,-0.1],0.1)\n",
    "weighted_avg_errors=[]\n",
    "weighted_sum_weight=[0,0]\n",
    "weighted_sum_bias=[0]\n",
    "for t in range(10):\n",
    "    weighted_sum_weight,weighted_sum_bias,weights,bias = weighted_avg(perceptron,t,weighted_sum_weight,weighted_sum_bias)\n",
    "    perceptron=Perceptron(weights,bias)\n",
    "    learn_data(perceptron, data)\n",
    "model_weighted_avg=Perceptron(weights,bias)\n",
    "print(evaluate(model_weighted_avg,data_test))"
   ]
  },
  {
   "cell_type": "markdown",
   "metadata": {
    "collapsed": true
   },
   "source": [
    "I evaluated the performance of these three models, using the same test dataset. The vanilla model has the highest error rate (0.202), the averaged weight model's error rate was 0.158, and the weighted average model was 0.154, which is the lowest."
   ]
  },
  {
   "cell_type": "markdown",
   "metadata": {
    "collapsed": true
   },
   "source": [
    "2 Naive Bayes\n",
    "(a). p(c)=1/2, p(¯c)=1/2\n",
    "     p(circle|c)=(1+1)/(11+3)=1/7\n",
    "     p(square|c)=(8+1)/(11+3)=9/14\n",
    "     p(triangle|c)=(2+1)/(11+3)=3/14\n",
    "     p(circle|¯c)=(1+1)/(10+3)=2/13\n",
    "     p(square|¯c)=(2+1)/(10+3)=3/13\n",
    "     p(triangle|¯c)=(7+1)/(10+3)=8/13\n"
   ]
  },
  {
   "cell_type": "markdown",
   "metadata": {},
   "source": [
    "(b). p(c|?)∝1/2·1/7·(9/14)^3·3/14≈0.00407\n",
    "     p(¯c|?)∝1/2·2/13·(3/13)^3·8/13≈0.00058\n",
    "     So, I think the unlabeled example is most likely to be the class 1."
   ]
  },
  {
   "cell_type": "markdown",
   "metadata": {},
   "source": [
    "3 Logistic Regression in sklearn\n",
    "(a)."
   ]
  },
  {
   "cell_type": "code",
   "execution_count": 1,
   "metadata": {
    "collapsed": true
   },
   "outputs": [],
   "source": [
    "import sklearn\n",
    "from sklearn import linear_model\n",
    "from sklearn.datasets import load_files\n",
    "from sklearn import metrics\n",
    "from sklearn.cross_validation import train_test_split\n",
    "from sklearn.feature_extraction.text import CountVectorizer\n",
    "from sklearn.naive_bayes import MultinomialNB\n",
    "from sklearn.cross_validation import cross_val_score"
   ]
  },
  {
   "cell_type": "code",
   "execution_count": 2,
   "metadata": {
    "collapsed": false
   },
   "outputs": [
    {
     "name": "stdout",
     "output_type": "stream",
     "text": [
      "n_samples: 2000\n"
     ]
    }
   ],
   "source": [
    "dataset = load_files(\"movie-reviews/\")\n",
    "print(\"n_samples: %d\" % len(dataset.data))"
   ]
  },
  {
   "cell_type": "code",
   "execution_count": 3,
   "metadata": {
    "collapsed": false
   },
   "outputs": [],
   "source": [
    "docs_train, docs_test, y_train, y_test = train_test_split(\n",
    "        dataset.data, dataset.target, test_size=0.25, random_state=None)"
   ]
  },
  {
   "cell_type": "code",
   "execution_count": 4,
   "metadata": {
    "collapsed": true
   },
   "outputs": [],
   "source": [
    "vectorizer = CountVectorizer(stop_words=\"english\")\n",
    "# fit the vectorizer to the training documents\n",
    "X_train = vectorizer.fit_transform(docs_train)"
   ]
  },
  {
   "cell_type": "code",
   "execution_count": 5,
   "metadata": {
    "collapsed": false
   },
   "outputs": [
    {
     "name": "stdout",
     "output_type": "stream",
     "text": [
      "('accuracy is: ', 0.80400000000000005)\n"
     ]
    }
   ],
   "source": [
    "model_NB = MultinomialNB()\n",
    "model_NB.fit(X_train, y_train)\n",
    "X_test = vectorizer.transform(docs_test)\n",
    "y_hat = model_NB.predict(X_test)\n",
    "print(\"accuracy is: \", metrics.accuracy_score(y_test, y_hat))"
   ]
  },
  {
   "cell_type": "code",
   "execution_count": 6,
   "metadata": {
    "collapsed": false
   },
   "outputs": [
    {
     "data": {
      "text/plain": [
       "LogisticRegression(C=1.0, class_weight=None, dual=False, fit_intercept=True,\n",
       "          intercept_scaling=1, max_iter=100, multi_class='ovr', n_jobs=1,\n",
       "          penalty='l2', random_state=None, solver='liblinear', tol=0.0001,\n",
       "          verbose=0, warm_start=False)"
      ]
     },
     "execution_count": 6,
     "metadata": {},
     "output_type": "execute_result"
    }
   ],
   "source": [
    "model_LR=sklearn.linear_model.LogisticRegression()\n",
    "model_LR.fit(X_train, y_train)"
   ]
  },
  {
   "cell_type": "code",
   "execution_count": 7,
   "metadata": {
    "collapsed": true
   },
   "outputs": [],
   "source": [
    "X_test = vectorizer.transform(docs_test)\n",
    "y_hat = model_LR.predict(X_test)"
   ]
  },
  {
   "cell_type": "code",
   "execution_count": 8,
   "metadata": {
    "collapsed": false
   },
   "outputs": [
    {
     "name": "stdout",
     "output_type": "stream",
     "text": [
      "('accuracy is: ', 0.84599999999999997)\n"
     ]
    }
   ],
   "source": [
    "print(\"accuracy is: \", model_LR.score(X_test, y_test))"
   ]
  },
  {
   "cell_type": "code",
   "execution_count": 9,
   "metadata": {
    "collapsed": false
   },
   "outputs": [
    {
     "name": "stdout",
     "output_type": "stream",
     "text": [
      "('classification report: ', '             precision    recall  f1-score   support\\n\\n          0       0.89      0.82      0.85       271\\n          1       0.80      0.88      0.84       229\\n\\navg / total       0.85      0.85      0.85       500\\n')\n"
     ]
    }
   ],
   "source": [
    "print(\"classification report: \", metrics.classification_report(y_test, y_hat))"
   ]
  },
  {
   "cell_type": "markdown",
   "metadata": {},
   "source": [
    "Compared to Naive Bayes, which has a precision of 0.78, Logistic Regression is better at predictive performance, with a precision of 0.81."
   ]
  },
  {
   "cell_type": "markdown",
   "metadata": {},
   "source": [
    "(b)."
   ]
  },
  {
   "cell_type": "code",
   "execution_count": null,
   "metadata": {
    "collapsed": true
   },
   "outputs": [],
   "source": []
  },
  {
   "cell_type": "markdown",
   "metadata": {},
   "source": [
    "(c)."
   ]
  },
  {
   "cell_type": "code",
   "execution_count": 10,
   "metadata": {
    "collapsed": false
   },
   "outputs": [],
   "source": [
    "scores_NB = sklearn.cross_validation.cross_val_score(model_NB,X_test, y_test,cv=10)\n",
    "scores_LR = sklearn.cross_validation.cross_val_score(model_LR,X_test, y_test,cv=10)"
   ]
  },
  {
   "cell_type": "code",
   "execution_count": 11,
   "metadata": {
    "collapsed": true
   },
   "outputs": [],
   "source": [
    "scores=(scores_NB,scores_LR)"
   ]
  },
  {
   "cell_type": "code",
   "execution_count": 305,
   "metadata": {
    "collapsed": false
   },
   "outputs": [
    {
     "data": {
      "text/plain": [
       "{'boxes': [<matplotlib.lines.Line2D at 0x1055f3be0>,\n",
       "  <matplotlib.lines.Line2D at 0x105605f60>],\n",
       " 'caps': [<matplotlib.lines.Line2D at 0x1055f8f60>,\n",
       "  <matplotlib.lines.Line2D at 0x1055feeb8>,\n",
       "  <matplotlib.lines.Line2D at 0x105610f60>,\n",
       "  <matplotlib.lines.Line2D at 0x1056167b8>],\n",
       " 'fliers': [<matplotlib.lines.Line2D at 0x105605eb8>,\n",
       "  <matplotlib.lines.Line2D at 0x10561c828>],\n",
       " 'means': [],\n",
       " 'medians': [<matplotlib.lines.Line2D at 0x110e83a90>,\n",
       "  <matplotlib.lines.Line2D at 0x1056168d0>],\n",
       " 'whiskers': [<matplotlib.lines.Line2D at 0x1055f3da0>,\n",
       "  <matplotlib.lines.Line2D at 0x1055f8e48>,\n",
       "  <matplotlib.lines.Line2D at 0x10560aef0>,\n",
       "  <matplotlib.lines.Line2D at 0x105610748>]}"
      ]
     },
     "execution_count": 305,
     "metadata": {},
     "output_type": "execute_result"
    },
    {
     "data": {
      "image/png": "[encoded data removed]",
      "text/plain": [
       "<matplotlib.figure.Figure at 0x110c7b080>"
      ]
     },
     "metadata": {},
     "output_type": "display_data"
    }
   ],
   "source": [
    "plt.boxplot(scores)"
   ]
  },
  {
   "cell_type": "code",
   "execution_count": null,
   "metadata": {
    "collapsed": true
   },
   "outputs": [],
   "source": []
  }
 ],
 "metadata": {
  "kernelspec": {
   "display_name": "Python 2",
   "language": "python",
   "name": "python2"
  },
  "language_info": {
   "codemirror_mode": {
    "name": "ipython",
    "version": 2
   },
   "file_extension": ".py",
   "mimetype": "text/x-python",
   "name": "python",
   "nbconvert_exporter": "python",
   "pygments_lexer": "ipython2",
   "version": "2.7.11"
  }
 },
 "nbformat": 4,
 "nbformat_minor": 0
}
