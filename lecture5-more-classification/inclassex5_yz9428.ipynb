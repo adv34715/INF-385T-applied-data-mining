{
 "cells": [
  {
   "cell_type": "code",
   "execution_count": 49,
   "metadata": {
    "collapsed": false
   },
   "outputs": [],
   "source": [
    "import warnings\n",
    "warnings.filterwarnings('ignore')\n",
    "\n",
    "import sklearn\n",
    "from sklearn import datasets\n",
    "from sklearn.datasets import load_boston\n",
    "\n",
    "import pandas as pd\n",
    "dataset = load_boston()\n",
    "df = pd.DataFrame(dataset.data, columns=dataset.feature_names)\n",
    "df[\"label\"] = dataset.target"
   ]
  },
  {
   "cell_type": "code",
   "execution_count": 50,
   "metadata": {
    "collapsed": false
   },
   "outputs": [
    {
     "name": "stdout",
     "output_type": "stream",
     "text": [
      "(506, 2)\n"
     ]
    }
   ],
   "source": [
    "from sklearn.decomposition import PCA\n",
    "pca = PCA(n_components=2).fit_transform(dataset.data)\n",
    "print (pca.shape)"
   ]
  },
  {
   "cell_type": "code",
   "execution_count": 51,
   "metadata": {
    "collapsed": false
   },
   "outputs": [
    {
     "data": {
      "image/png": "[encoded data removed]",
      "text/plain": [
       "<matplotlib.figure.Figure at 0x1158c3588>"
      ]
     },
     "metadata": {},
     "output_type": "display_data"
    }
   ],
   "source": [
    "import matplotlib\n",
    "import matplotlib.pyplot as plt\n",
    "%matplotlib inline\n",
    "plt.scatter(pca[:,0],pca[:,1])\n",
    "plt.show()"
   ]
  },
  {
   "cell_type": "code",
   "execution_count": 58,
   "metadata": {
    "collapsed": false
   },
   "outputs": [],
   "source": [
    "X = dataset.data \n",
    "Y = dataset.target\n",
    "l = X.shape[0] \n",
    "\n",
    "x_train_data = pd.DataFrame(data=X[:-l/3])\n",
    "x_test_data = pd.DataFrame(data=X[-l/3:])\n",
    "y_train_data = Y[:-l/3]\n",
    "y_test_data = Y[-l/3:]\n",
    "\n",
    "x_train_pca = pd.DataFrame(data=pca[:-l/3])\n",
    "x_test_pca = pd.DataFrame(data=pca[-l/3:])\n",
    "y_train_pca = Y[:-l/3]\n",
    "y_test_pca = Y[-l/3:]"
   ]
  },
  {
   "cell_type": "code",
   "execution_count": 59,
   "metadata": {
    "collapsed": false
   },
   "outputs": [
    {
     "data": {
      "text/plain": [
       "LinearRegression(copy_X=True, fit_intercept=True, n_jobs=1, normalize=False)"
      ]
     },
     "execution_count": 59,
     "metadata": {},
     "output_type": "execute_result"
    }
   ],
   "source": [
    "from sklearn import linear_model\n",
    "clf_data = linear_model.LinearRegression()\n",
    "clf_pca = linear_model.LinearRegression()\n",
    "clf_data.fit(x_train_data, y_train_data)\n",
    "clf_pca.fit(x_train_pca, y_train_pca)"
   ]
  },
  {
   "cell_type": "code",
   "execution_count": 62,
   "metadata": {
    "collapsed": false
   },
   "outputs": [
    {
     "name": "stdout",
     "output_type": "stream",
     "text": [
      "mean squared error in original space: 450.729511735; MSE in reduced space: 88.3675802124\n"
     ]
    }
   ],
   "source": [
    "data_preds = clf_data.predict(x_test_data)\n",
    "data_errors = sklearn.metrics.mean_squared_error(y_test_data, data_preds)\n",
    "\n",
    "pca_preds  = clf_pca.predict(x_test_pca)\n",
    "pca_errors = sklearn.metrics.mean_squared_error(y_test_pca, pca_preds)\n",
    "\n",
    "print (\"mean squared error in original space: %s; MSE in reduced space: %s\" % (data_errors, pca_errors))\n"
   ]
  },
  {
   "cell_type": "code",
   "execution_count": null,
   "metadata": {
    "collapsed": true
   },
   "outputs": [],
   "source": []
  }
 ],
 "metadata": {
  "kernelspec": {
   "display_name": "Python 3",
   "language": "python",
   "name": "python3"
  },
  "language_info": {
   "codemirror_mode": {
    "name": "ipython",
    "version": 3
   },
   "file_extension": ".py",
   "mimetype": "text/x-python",
   "name": "python",
   "nbconvert_exporter": "python",
   "pygments_lexer": "ipython3",
   "version": "3.5.1"
  }
 },
 "nbformat": 4,
 "nbformat_minor": 0
}
